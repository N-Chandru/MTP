{
  "nbformat": 4,
  "nbformat_minor": 0,
  "metadata": {
    "colab": {
      "provenance": []
    },
    "kernelspec": {
      "name": "python3",
      "display_name": "Python 3"
    },
    "language_info": {
      "name": "python"
    }
  },
  "cells": [
    {
      "cell_type": "markdown",
      "source": [
        "# urls to download data set"
      ],
      "metadata": {
        "id": "hb7wpdxcf9KK"
      }
    },
    {
      "cell_type": "code",
      "execution_count": 22,
      "metadata": {
        "id": "Rbbhy7qLf0RX"
      },
      "outputs": [],
      "source": [
        "url= \"https://raw.githubusercontent.com/N-Chandru/MTP/main/match_data_2010_2011.csv\"\n",
        "url1=\"https://raw.githubusercontent.com/N-Chandru/MTP/main/match_data_1995.csv\""
      ]
    },
    {
      "cell_type": "markdown",
      "source": [
        "# Importing required packages"
      ],
      "metadata": {
        "id": "X5Ynn8JfgD43"
      }
    },
    {
      "cell_type": "code",
      "source": [
        "%%capture\n",
        "!pip install fancyimpute"
      ],
      "metadata": {
        "id": "bHkb6PJEgEvP"
      },
      "execution_count": 23,
      "outputs": []
    },
    {
      "cell_type": "code",
      "source": [
        "import pandas as pd\n",
        "import numpy as np\n",
        "import math\n",
        "from fancyimpute import KNN, NuclearNormMinimization, SoftImpute, BiScaler"
      ],
      "metadata": {
        "id": "OgpOl5qrgITC"
      },
      "execution_count": 24,
      "outputs": []
    },
    {
      "cell_type": "markdown",
      "source": [
        "# Data pre processing"
      ],
      "metadata": {
        "id": "Zr0YwM1vgN55"
      }
    },
    {
      "cell_type": "code",
      "source": [
        "# considering only playerA and layerB column in te dataframe\n",
        "def Data(Urls):\n",
        "  frames = []\n",
        "  for url in Urls:\n",
        "    df = pd.read_csv(url)\n",
        "    df = df[[\"playerA\", \"playerB\"]]\n",
        "    frames.append(df)\n",
        "    data = pd.concat(frames)\n",
        "  \n",
        "  return data[data.playerB != 'N/A Bye']"
      ],
      "metadata": {
        "id": "KFlADz4xgNB8"
      },
      "execution_count": 25,
      "outputs": []
    },
    {
      "cell_type": "code",
      "source": [
        "data = Data([url, url1])\n",
        "data"
      ],
      "metadata": {
        "id": "IQgdpPFWgR-p"
      },
      "execution_count": null,
      "outputs": []
    },
    {
      "cell_type": "code",
      "source": [
        "# creating players dictionary \n",
        "# players names as key and id as value....\n",
        "def Playerss(dataframe):\n",
        "  A = dataframe['playerA'].tolist()\n",
        "  B = dataframe['playerB'].tolist()\n",
        "  Players = list(set(A) | set(B))\n",
        "  Players_dict = {val: id for id, val in enumerate(Players)}\n",
        "  return Players_dict"
      ],
      "metadata": {
        "id": "A0XYk1Pehfv5"
      },
      "execution_count": 27,
      "outputs": []
    },
    {
      "cell_type": "markdown",
      "source": [
        "# Pairwise Block Rank Algo."
      ],
      "metadata": {
        "id": "r-vGF4izgY-i"
      }
    },
    {
      "cell_type": "markdown",
      "source": [
        "## computing Pairwise Preference Matrix:-\n",
        "\n",
        "${Pr(i≻j)}$ ≡ $\\frac{1}{1+exp−(si−sj)}$"
      ],
      "metadata": {
        "id": "uf5BWD5xgasG"
      }
    },
    {
      "cell_type": "code",
      "source": [
        "def Count(dataframe):\n",
        "  count = {}\n",
        "  Data = dataframe.values.tolist()\n",
        "\n",
        "  for data in Data:\n",
        "    data = tuple(data)\n",
        "    if data in count:\n",
        "      count[data] += 1\n",
        "    else:\n",
        "      count[data] = 1\n",
        "  \n",
        "  return count\n",
        "\n",
        "def probability(Matrix):\n",
        "  n, _ = Matrix.shape\n",
        "  prob = np.zeros(shape = (n, n), dtype=float)\n",
        "  skew = np.zeros(shape = (n, n), dtype=float)\n",
        "\n",
        "  prob = 1.0/(1.0 + np.exp(Matrix.T- Matrix))\n",
        "  \n",
        "  with np.errstate(invalid='ignore', divide='ignore'):\n",
        "    skew = np.log10(prob/prob.T)\n",
        "\n",
        "  skew = np.nan_to_num(skew, nan=0, posinf=0, neginf=0)\n",
        "  return skew\n",
        "\n",
        "# return pairwise Preference matrix\n",
        "def PPM(dataframe, Players):\n",
        "\n",
        "  preferenceMatrix = np.zeros(shape = (len(Players), len(Players)), dtype=float)\n",
        "  count = Count(dataframe)\n",
        "  \n",
        "  for p1 in Players:\n",
        "    for p2 in Players:\n",
        "      if p1!=p2:\n",
        "        preferenceMatrix[Players[p1]][Players[p2]] = count.get((p1, p2), 0)\n",
        "        preferenceMatrix[Players[p2]][Players[p1]] = count.get((p2, p1), 0)\n",
        "  \n",
        "  return probability(preferenceMatrix)\n",
        "\n",
        "# returns a matrix of 0's and 1's if given input matrix has missing value means\n",
        "# fill with 0 and known value means with 1\n",
        "def mask(matrix):\n",
        "  matrix[matrix!=0]=1\n",
        "  return matrix"
      ],
      "metadata": {
        "id": "g2gUTYWSgfXU"
      },
      "execution_count": 28,
      "outputs": []
    },
    {
      "cell_type": "markdown",
      "source": [
        "## Matrix completion\n",
        "Reference [link ](https://ieeexplore.ieee.org/stamp/stamp.jsp?tp=&arnumber=6751420)\n",
        "\n",
        "**Unifying Nuclear Norm and Bilinear Factorization\n",
        "Approaches for Low-rank Matrix Decomposition**\n",
        "\n",
        "Input: $X, W ∈ R_{M ×N}, μ, λ, ρ$\n",
        "\n",
        "while *not converged* do:\n",
        ">while not converged do:\n",
        "\n",
        "> >Update $ U = (ρZ + Y) *V * (ρV^{T} \u0002 V + λI_r)^{-1}\u0002$\n",
        "\n",
        ">>Update $V = (ρZ + Y)*U*(ρU^{T}U + λI_r)^{-1}$\n",
        "\n",
        ">>Update$Z = W.\u0007( \\frac{1}{2 + ρ}(2X + ρ(UV^{T}\u0002 − ρ^{-1}Y)))+ W .(UV\u0002^{T} − ρ^{−1}Y)$\n",
        "\n",
        ">end while\n",
        "  \n",
        "$Y = Y + ρ(Z − UV^{T})$\n",
        "\n",
        "$ρ = min (ρμ, 1e^{20} )$\n",
        "\n",
        "end while\n",
        "\n",
        "Output: Complete Matrix  $ Z = UV^{T}$ \u0002"
      ],
      "metadata": {
        "id": "rPtQWrJqjod7"
      }
    },
    {
      "cell_type": "code",
      "source": [
        "# Matrix completion described in the above\n",
        "def Matrix_Completion(Matrix, r, Mask, mu=0.01, ro=1, l=0.001, eps=1e-5, steps=1000):\n",
        "  U = np.random.normal(size=(Matrix.shape[0], r))\n",
        "  V = np.random.normal(size=(Matrix.shape[1], r))\n",
        "  Z = U@V.T\n",
        "  Y = np.zeros(shape=(Matrix.shape))\n",
        "  I = np.eye(r)\n",
        "  step = 0\n",
        "  converged, converged2 = False, False\n",
        "\n",
        "  while not converged:\n",
        "    step2 =0\n",
        "    while not converged2:\n",
        "      U = (ro*Z +Y) @ V @ np.linalg.inv(ro*V.T @ V + l*I )\n",
        "      V = (ro*Z +Y).T @ U @ np.linalg.inv(ro*U.T @ U + l*I )\n",
        "      temp = U @V.T -1/ro * Y\n",
        "      ZZ = Mask*(1/(2+ro) *(2*Matrix + ro*temp)) + (1-Mask)*temp\n",
        "      converged2 = np.linalg.norm(Z-ZZ)/np.linalg.norm(Z) <eps or step2>steps\n",
        "      step2+=1\n",
        "      Z = ZZ.copy()\n",
        "    temp = Z - U @ V.T\n",
        "    Y = Y + ro*temp\n",
        "    ro = min(ro*mu, 1e20)\n",
        "    converged = np.linalg.norm(temp)<eps or step>steps\n",
        "    step+=1\n",
        "  \n",
        "  Z = U @ V.T\n",
        "  with np.errstate(invalid='ignore', divide='ignore'):\n",
        "    Matrix = np.log10(abs(Z/Z.T))\n",
        "  return Matrix\n"
      ],
      "metadata": {
        "id": "AKiFCJd3jnVv"
      },
      "execution_count": 29,
      "outputs": []
    },
    {
      "cell_type": "code",
      "source": [
        "# fancyImpute matrix comletion module\n",
        "# Takes Matrix with missing values as nan \n",
        "def fancyimpute(Matrix):\n",
        "  \n",
        "  Matrix[Matrix==0]=np.nan\n",
        "  X_incomplete_normalized = BiScaler().fit_transform(Matrix)\n",
        "  P_completed = SoftImpute().fit_transform(X_incomplete_normalized)\n",
        "  np.fill_diagonal(P_completed, 0)\n",
        "  with np.errstate(invalid='ignore', divide='ignore'):\n",
        "    Matrix = np.log10(abs(P_completed/P_completed.T))"
      ],
      "metadata": {
        "id": "yKgLfVUroEqc"
      },
      "execution_count": 30,
      "outputs": []
    },
    {
      "cell_type": "markdown",
      "source": [
        "# Tournament Construction\n"
      ],
      "metadata": {
        "id": "eh_EwFPuj8p8"
      }
    },
    {
      "cell_type": "code",
      "source": [
        "class Tournaments():\n",
        "  def __init__(self, Matrix):\n",
        "    self.Tournament = Matrix.copy()\n",
        "    # if T_ij is greater than zero means put an edge between i->j...\n",
        "    self.Tournament[self.Tournament>0]=1\n",
        "    self.Tournament[self.Tournament<0]=0\n",
        "\n",
        "  # return a subtournament \n",
        "  def Sub_tournament(self, Vertices):\n",
        "    \n",
        "    n = len(Vertices)\n",
        "    Sub_tournament = np.zeros(shape = (n, n), dtype = int)\n",
        "    \n",
        "    for i, u in enumerate(Vertices):\n",
        "      for j, v in enumerate(Vertices):\n",
        "        if u!=v and self.Tournament[u][v] == 1:\n",
        "          Sub_tournament[i][j]=1\n",
        "    return Sub_tournament"
      ],
      "metadata": {
        "id": "npg_jeZWj9Vo"
      },
      "execution_count": 31,
      "outputs": []
    },
    {
      "cell_type": "markdown",
      "source": [
        "# Rank2Rank Algo and BR2R Algo.."
      ],
      "metadata": {
        "id": "cMr-XiHeoocY"
      }
    },
    {
      "cell_type": "code",
      "source": [
        "import collections\n",
        "def flatten(lis):\n",
        "  for item in lis:\n",
        "    if isinstance(item, collections.Iterable) and not isinstance(item, str):\n",
        "      for x in flatten(item):\n",
        "        yield x\n",
        "    else:        \n",
        "      yield item"
      ],
      "metadata": {
        "id": "4lJh0Xt7orrL"
      },
      "execution_count": 32,
      "outputs": []
    },
    {
      "cell_type": "code",
      "source": [
        "def Triangle(Tournament):\n",
        "  \n",
        "  n,m = Tournament.shape\n",
        "  \n",
        "  for u in range(n):\n",
        "    x = np.where(Tournament[u] == 1)\n",
        "    for v in x[0]:\n",
        "      y = np.where(Tournament[v] == 1)\n",
        "      for w in y[0]:\n",
        "        if Tournament[w][u]:\n",
        "          return [u,v,w]\n",
        "  \n",
        "  return []\n",
        "\n",
        "def Topologicalsort(Tournament, Vertices):\n",
        "  \n",
        "  n,_ = Tournament.shape\n",
        "  degree = np.zeros(shape = n, dtype = int)\n",
        "  \n",
        "  for u in range(n):\n",
        "    x= np.where(Tournament[u] == 1)\n",
        "    for v in x[0]:\n",
        "      degree[v]+=1\n",
        "      \n",
        "  queue=[]\n",
        "  x= np.where(degree == 0)\n",
        "  for u in x[0]:\n",
        "    queue.append(u)\n",
        "    \n",
        "  count = 0\n",
        "  Topologicalorder =[]\n",
        "  \n",
        "  while queue:\n",
        "    u = queue.pop(0)\n",
        "    Topologicalorder.append(Vertices[u])\n",
        "    \n",
        "    x= np.where(Tournament[u] == 1)\n",
        "    for v in x[0]:\n",
        "      degree[v]-=1\n",
        "      if degree[v] == 0:\n",
        "        queue.append(v)\n",
        "    count+=1\n",
        "      \n",
        "  if count!=n:\n",
        "    return (False, [])\n",
        "  else:\n",
        "    return (True, Topologicalorder)"
      ],
      "metadata": {
        "id": "b6nogbV6ox3e"
      },
      "execution_count": 33,
      "outputs": []
    },
    {
      "cell_type": "code",
      "source": [
        "def find(Tournament, Vertices, cycle):\n",
        "\n",
        "  n, _ = Tournament.shape\n",
        "  Splus, Sminus, A, B, C = [], [], [], [], []\n",
        "\n",
        "  # cycle triangle with nodes as \"a\", \"b\", \"c\"\n",
        "  for i in range(n):\n",
        "    # if node beats every node in triangle add it to Splus\n",
        "    if Tournament[i][cycle[0]] and Tournament[i][cycle[1]] and Tournament[i][cycle[2]]:\n",
        "      Splus.append(Vertices[i])\n",
        "\n",
        "    # if node is beaten by every node in triangele then add it to Sminus\n",
        "    elif Tournament[cycle[0]][i] and Tournament[cycle[1]][i] and Tournament[cycle[2]][i]:\n",
        "      Sminus.append(Vertices[i])\n",
        "\n",
        "    # if node beats \"b\" and beaten by \"c\"\n",
        "    elif Tournament[i][cycle[1]] and Tournament[cycle[2]][i]:\n",
        "      A.append(Vertices[i])\n",
        "\n",
        "    # if node beats \"c\" and beaten by \"a\"\n",
        "    elif Tournament[i][cycle[2]] and Tournament[cycle[0]][i]:\n",
        "      B.append(Vertices[i])\n",
        "\n",
        "    # if node beats \"a\" and beaten by \"b\"\n",
        "    elif Tournament[i][cycle[0]] and Tournament[cycle[1]][i]:\n",
        "      C.append(Vertices[i])\n",
        "\n",
        "  return Splus, Sminus, A, B, C"
      ],
      "metadata": {
        "id": "HHTD-GUCt4AY"
      },
      "execution_count": 35,
      "outputs": []
    },
    {
      "cell_type": "code",
      "source": [
        "# counts total number of upsets in the predicted rank\n",
        "def Upsets(Tournament, sigma):\n",
        "  \n",
        "  n, = sigma.shape\n",
        "  count = 0\n",
        "\n",
        "  # if the pairs (i, j) for which σ(j) < σ(i) but the fraction of\n",
        "  # times i being preferred over j in the test set is ≥ 0.5\n",
        "  for i in range(n):\n",
        "    for j in range(i+1, n):\n",
        "      if Tournament[i][j] != 1:\n",
        "        count+=1\n",
        "  return count\n",
        "\n",
        "def MFAST(Tournament, Vertices):\n",
        "  sigma = np.array(Vertices)\n",
        "  n, = sigma.shape\n",
        "  upset = n*n\n",
        "  sigmaStar = sigma.copy()\n",
        "\n",
        "  for i in range(n):\n",
        "    rank_eval = Upsets(Tournament, sigma)\n",
        "    if rank_eval<upset:\n",
        "      upset = rank_eval\n",
        "      sigmaStar = sigma\n",
        "    sigma = np.roll(sigma, 1)\n",
        "    Tournament = np.insert(Tournament, n, Tournament[0], axis=0)\n",
        "    Tournament = np.delete(Tournament, 0, 0)\n",
        "    Tournament = np.insert(Tournament, n, Tournament[:,0], axis=1)\n",
        "    Tournament = np.delete(Tournament, 0, 1)\n",
        "\n",
        "  return sigmaStar"
      ],
      "metadata": {
        "id": "tEu9hpvFC-VH"
      },
      "execution_count": 36,
      "outputs": []
    },
    {
      "cell_type": "code",
      "source": [
        "def Rank(Tournament, Vertices):\n",
        "  return Vertices"
      ],
      "metadata": {
        "id": "iEu8St1zsvuq"
      },
      "execution_count": null,
      "outputs": []
    },
    {
      "cell_type": "code",
      "source": [
        "def BR2R(Tournament, Vertices):\n",
        "\n",
        "  Tour = Tournament.Sub_tournament(Vertices)\n",
        "  n, _ = Tour.shape\n",
        "  flag, Sort = Topologicalsort(Tour, Vertices)\n",
        "\n",
        "  if flag:\n",
        "    return Sort\n",
        "  else:\n",
        "    cycle = Triangle(Tour)\n",
        "    if len(cycle)==0: return Rank(Tournament, Vertices)\n",
        "    Splus, Sminus, A, B, C = find(Tour, Vertices, cycle)\n",
        "    sigma = [BR2R(Tournament, A), BR2R(Tournament, B), BR2R(Tournament, C)]\n",
        "    sigma1 = BR2R(Tournament, Splus)\n",
        "    sigma2 = BR2R(Tournament, Sminus)\n",
        "    sigma = list(flatten(sigma))\n",
        "    sigma = MFAST(Tournament.Sub_tournament(sigma), sigma)\n",
        "\n",
        "    return list(flatten(sigma1)) + list(sigma) + list(flatten(sigma2))"
      ],
      "metadata": {
        "id": "obLBZihWo6cY"
      },
      "execution_count": 37,
      "outputs": []
    },
    {
      "cell_type": "code",
      "source": [
        "def PairwiseBlockrank(data, rank):\n",
        "  players = Playerss(data)\n",
        "  P = PPM(data, players)\n",
        "  Mask = mask(P.copy())\n",
        "  Matrix = Matrix_Completion(P, rank, Mask)\n",
        "  Tour = Tournaments(Matrix)\n",
        "  sp, _ = Tour.Tournament.shape\n",
        "  Vertices = [i for i in range(sp)]\n",
        "  rank = BR2R(Tour, Vertices)\n",
        "  ups = Upsets(Tour.Sub_tournament(rank), np.array(rank))\n",
        "  return [rank, ups]"
      ],
      "metadata": {
        "id": "Z4N1MwqM6OND"
      },
      "execution_count": 38,
      "outputs": []
    },
    {
      "cell_type": "code",
      "source": [
        "result=[]\n",
        "for i in range(20):\n",
        "  temp=[]\n",
        "  for r in [2,4,6,8]:\n",
        "    temp.append(PairwiseBlockrank(data, r))\n",
        "  result.append(temp)\n"
      ],
      "metadata": {
        "id": "S5GFS32ZE4LS"
      },
      "execution_count": 40,
      "outputs": []
    },
    {
      "cell_type": "code",
      "source": [
        "for i, item in enumerate(result):\n",
        "  for g in range(4):\n",
        "    print(f'In run {i+1} for rank {(g+1)*2} : Total upsets are {item[g][1]}')"
      ],
      "metadata": {
        "id": "_ZDGbp9xOdgs"
      },
      "execution_count": null,
      "outputs": []
    }
  ]
}