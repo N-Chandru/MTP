{
  "nbformat": 4,
  "nbformat_minor": 0,
  "metadata": {
    "colab": {
      "provenance": [],
      "collapsed_sections": []
    },
    "kernelspec": {
      "name": "python3",
      "display_name": "Python 3"
    },
    "language_info": {
      "name": "python"
    }
  },
  "cells": [
    {
      "cell_type": "markdown",
      "source": [
        "# urls to download data set"
      ],
      "metadata": {
        "id": "zpaPcXvwb92S"
      }
    },
    {
      "cell_type": "code",
      "source": [
        "url= \"https://raw.githubusercontent.com/N-Chandru/MTP/main/match_data_2010_2011.csv\"\n",
        "url1=\"https://raw.githubusercontent.com/N-Chandru/MTP/main/match_data_1995.csv\""
      ],
      "metadata": {
        "id": "3Uf4dzXnKA_-"
      },
      "execution_count": 65,
      "outputs": []
    },
    {
      "cell_type": "markdown",
      "source": [
        "# importing required packages"
      ],
      "metadata": {
        "id": "CBbwd0iZcHEm"
      }
    },
    {
      "cell_type": "code",
      "source": [
        "%%capture\n",
        "!pip install fancyimpute"
      ],
      "metadata": {
        "id": "_viU4EPHbZ3F"
      },
      "execution_count": 66,
      "outputs": []
    },
    {
      "cell_type": "code",
      "source": [
        "import pandas as pd\n",
        "import numpy as np\n",
        "import math\n",
        "from fancyimpute import KNN, NuclearNormMinimization, SoftImpute, BiScaler"
      ],
      "metadata": {
        "id": "PrmbbcZALhv4"
      },
      "execution_count": 67,
      "outputs": []
    },
    {
      "cell_type": "markdown",
      "source": [
        "# Data pre processing"
      ],
      "metadata": {
        "id": "pf3APsQOcUZk"
      }
    },
    {
      "cell_type": "code",
      "source": [
        "def Data(Urls):\n",
        "  frames = []\n",
        "  for url in Urls:\n",
        "    df = pd.read_csv(url)\n",
        "    df = df[[\"playerA\", \"playerB\"]]\n",
        "    frames.append(df)\n",
        "  \n",
        "  return pd.concat(frames)"
      ],
      "metadata": {
        "id": "7QjLJX64cbCC"
      },
      "execution_count": 68,
      "outputs": []
    },
    {
      "cell_type": "code",
      "source": [
        "data = Data([ url])\n",
        "data = data[data.playerB != 'N/A Bye']\n",
        "data"
      ],
      "metadata": {
        "id": "Lrq7EPL4dTdJ"
      },
      "execution_count": null,
      "outputs": []
    },
    {
      "cell_type": "markdown",
      "source": [
        "# Pairwise Block Rank Algo."
      ],
      "metadata": {
        "id": "I9aSIII0doBD"
      }
    },
    {
      "cell_type": "code",
      "source": [
        "def Count(dataframe):\n",
        "  count = {}\n",
        "  Data = dataframe.values.tolist()\n",
        "\n",
        "  for data in Data:\n",
        "    data = tuple(data)\n",
        "    if data in count:\n",
        "      count[data] += 1\n",
        "    else:\n",
        "      count[data] = 1\n",
        "  \n",
        "  return count\n",
        "\n",
        "def probability(Matrix):\n",
        "  n, _ = Matrix.shape\n",
        "  prob = np.zeros(shape = (n, n), dtype=float)\n",
        "  skew = np.zeros(shape = (n, n), dtype=float)\n",
        "\n",
        "  prob = 1.0/(1.0 + np.exp(Matrix.T- Matrix))\n",
        "  \n",
        "  with np.errstate(invalid='ignore', divide='ignore'):\n",
        "    skew = np.log10(prob/prob.T)\n",
        "\n",
        "  skew = np.nan_to_num(skew, nan=0, posinf=0, neginf=0)\n",
        "  # np.fill_diagonal(skew, 0)\n",
        "  return skew\n",
        "\n",
        "def PPM(dataframe):\n",
        "  A = dataframe['playerA'].tolist()\n",
        "  B = dataframe['playerB'].tolist()\n",
        "  Players = list(set(A) | set(B))\n",
        "  Players_dict = {val: id for id, val in enumerate(Players)}\n",
        "  preferenceMatrix = np.zeros(shape = (len(Players), len(Players)), dtype=float)\n",
        "  count = Count(dataframe)\n",
        "  \n",
        "  for p1 in Players:\n",
        "    for p2 in Players:\n",
        "      if p1!=p2:\n",
        "        preferenceMatrix[Players_dict[p1]][Players_dict[p2]] = count.get((p1, p2), 0)\n",
        "        preferenceMatrix[Players_dict[p2]][Players_dict[p1]] = count.get((p2, p1), 0)\n",
        "  \n",
        "  return probability(preferenceMatrix)\n",
        "\n",
        "def mask(matrix):\n",
        "  matrix[matrix!=0]=1\n",
        "  return matrix"
      ],
      "metadata": {
        "id": "p_1gg6nQA_YJ"
      },
      "execution_count": 70,
      "outputs": []
    },
    {
      "cell_type": "code",
      "source": [
        "P = PPM(data)\n",
        "Mask = mask(P.copy())"
      ],
      "metadata": {
        "id": "Rv5on6KlJIvO"
      },
      "execution_count": 71,
      "outputs": []
    },
    {
      "cell_type": "code",
      "source": [
        "def Matrix_Completion(Matrix, r, Mask, mu=0.01, ro=1, l=0.001, eps=1e-5, steps=100):\n",
        "  U = np.random.normal(size=(Matrix.shape[0], r))\n",
        "  V = np.random.normal(size=(Matrix.shape[1], r))\n",
        "  Z = U@V.T\n",
        "  Y = np.zeros(shape=(Matrix.shape))\n",
        "  I = np.eye(r)\n",
        "  step = 0\n",
        "  converged, converged2 = False, False\n",
        "\n",
        "  while not converged:\n",
        "    step2 =0\n",
        "    while not converged2:\n",
        "      U = (ro*Z +Y) @ V @ np.linalg.inv(ro*V.T @ V + l*I )\n",
        "      V = (ro*Z +Y).T @ U @ np.linalg.inv(ro*U.T @ U + l*I )\n",
        "      temp = U @V.T -1/ro * Y\n",
        "      ZZ = Mask*(1/(2+ro) *(2*Matrix + ro*temp)) + (1-Mask)*temp\n",
        "      converged2 = np.linalg.norm(Z-ZZ)/np.linalg.norm(Z) <eps or step2>steps\n",
        "      step2+=1\n",
        "      Z = ZZ.copy()\n",
        "    temp = Z - U @ V.T\n",
        "    Y = Y + ro*temp\n",
        "    ro = min(ro*mu, 1e20)\n",
        "    converged = np.linalg.norm(temp)<eps or step>steps\n",
        "    step+=1\n",
        "  \n",
        "  Z = U @ V.T\n",
        "  with np.errstate(invalid='ignore', divide='ignore'):\n",
        "    Matrix = np.log10(abs(Z/Z.T))\n",
        "  return Matrix\n"
      ],
      "metadata": {
        "id": "MY3G-ViPj0CV"
      },
      "execution_count": 72,
      "outputs": []
    },
    {
      "cell_type": "code",
      "source": [
        "Matrix = Matrix_Completion(P, 250, Mask)"
      ],
      "metadata": {
        "id": "qWehnDbYwXcv"
      },
      "execution_count": 73,
      "outputs": []
    },
    {
      "cell_type": "code",
      "source": [
        "%%capture\n",
        "X_incomplete_normalized = BiScaler().fit_transform(P)\n",
        "P_completed = SoftImpute().fit_transform(X_incomplete_normalized)\n",
        "np.fill_diagonal(P_completed, 0)"
      ],
      "metadata": {
        "id": "2XtwE3XjTMe0"
      },
      "execution_count": 74,
      "outputs": []
    },
    {
      "cell_type": "code",
      "source": [
        "(P_completed.transpose() == -P_completed).all()"
      ],
      "metadata": {
        "id": "aiiMEIue_siK",
        "colab": {
          "base_uri": "https://localhost:8080/"
        },
        "outputId": "7ceef97b-1ca0-4cd0-a052-7949fedfef8f"
      },
      "execution_count": 75,
      "outputs": [
        {
          "output_type": "execute_result",
          "data": {
            "text/plain": [
              "False"
            ]
          },
          "metadata": {},
          "execution_count": 75
        }
      ]
    },
    {
      "cell_type": "markdown",
      "source": [
        "# Tournament Construction\n"
      ],
      "metadata": {
        "id": "IAq4t8xws6UE"
      }
    },
    {
      "cell_type": "code",
      "source": [
        "class Tournaments():\n",
        "  def __init__(self, Matrix):\n",
        "    self.Tournament = Matrix.copy()\n",
        "    \n",
        "  def Create_Tournament(self):\n",
        "    self.Tournament[self.Tournament>0]=1\n",
        "    self.Tournament[self.Tournament<0]=0\n",
        "    return self.Tournament\n",
        "    \n",
        "  def Sub_tournament(self, Vertices):\n",
        "    \n",
        "    n = len(Vertices)\n",
        "    Sub_tournament = np.zeros(shape = (n, n), dtype = int)\n",
        "    \n",
        "    for i, u in enumerate(Vertices):\n",
        "      for j, v in enumerate(Vertices):\n",
        "        if u!=v and self.Tournament[u][v] == 1:\n",
        "          Sub_tournament[i][j]=1\n",
        "    return Sub_tournament"
      ],
      "metadata": {
        "id": "JaYlR8Brzlmz"
      },
      "execution_count": 76,
      "outputs": []
    },
    {
      "cell_type": "code",
      "source": [
        "T = Tournaments(Matrix)\n",
        "Tour = T.Create_Tournament()\n",
        "Tour.shape"
      ],
      "metadata": {
        "colab": {
          "base_uri": "https://localhost:8080/"
        },
        "id": "Sqp4HGioD2k6",
        "outputId": "07dd7260-a243-40b5-d3e7-9fbaa9aa7503"
      },
      "execution_count": 77,
      "outputs": [
        {
          "output_type": "execute_result",
          "data": {
            "text/plain": [
              "(392, 392)"
            ]
          },
          "metadata": {},
          "execution_count": 77
        }
      ]
    },
    {
      "cell_type": "markdown",
      "source": [
        "# Rank2Rank Algo"
      ],
      "metadata": {
        "id": "S-qrd9kjtmXX"
      }
    },
    {
      "cell_type": "code",
      "source": [
        "import collections\n",
        "def flatten(lis):\n",
        "  for item in lis:\n",
        "    if isinstance(item, collections.Iterable) and not isinstance(item, str):\n",
        "      for x in flatten(item):\n",
        "        yield x\n",
        "    else:        \n",
        "      yield item"
      ],
      "metadata": {
        "id": "Z43ANl_q5KLa"
      },
      "execution_count": 78,
      "outputs": []
    },
    {
      "cell_type": "code",
      "source": [
        "def Triangle(Tournament):\n",
        "  \n",
        "  n,m = Tournament.shape\n",
        "  \n",
        "  for u in range(n):\n",
        "    x = np.where(Tournament[u] == 1)\n",
        "    for v in x[0]:\n",
        "      y = np.where(Tournament[v] == 1)\n",
        "      for w in y[0]:\n",
        "        if Tournament[w][u]:\n",
        "          return [u,v,w]\n",
        "  \n",
        "  return []\n",
        "\n",
        "def NTriangle(Tournament):\n",
        "\n",
        "  n,m = Tournament.shape\n",
        "\n",
        "  for u in range(n):\n",
        "    for v in range(n):\n",
        "      for w in range(n):\n",
        "        if u!=v and v!=w and w!=u:\n",
        "          if Tournament[u][v] and Tournament[v][w] and Tournament[w][u]:\n",
        "            return [u, v, w]\n",
        "\n",
        "  return []\n",
        "\n",
        "def Topologicalsort(Tournament, Vertices):\n",
        "  \n",
        "  n,_ = Tournament.shape\n",
        "  degree = np.zeros(shape = n, dtype = int)\n",
        "  \n",
        "  for u in range(n):\n",
        "    x= np.where(Tournament[u] == 1)\n",
        "    for v in x[0]:\n",
        "      degree[v]+=1\n",
        "      \n",
        "  queue=[]\n",
        "  x= np.where(degree == 0)\n",
        "  for u in x[0]:\n",
        "    queue.append(u)\n",
        "    \n",
        "  count = 0\n",
        "  Topologicalorder =[]\n",
        "  \n",
        "  while queue:\n",
        "    u = queue.pop(0)\n",
        "    Topologicalorder.append(Vertices[u])\n",
        "    \n",
        "    x= np.where(Tournament[u] == 1)\n",
        "    for v in x[0]:\n",
        "      degree[v]-=1\n",
        "      if degree[v] == 0:\n",
        "        queue.append(v)\n",
        "    count+=1\n",
        "      \n",
        "  if count!=n:\n",
        "    return (False, [])\n",
        "  else:\n",
        "    return (True, Topologicalorder)"
      ],
      "metadata": {
        "id": "isspeLpttlph"
      },
      "execution_count": 79,
      "outputs": []
    },
    {
      "cell_type": "code",
      "source": [
        "class MFAST():\n",
        "\n",
        "  def __init__(self, Sigma):\n",
        "     self.sigma = np.array(Sigma)\n",
        "     self.n, = self.sigma.shape\n",
        "\n",
        "  def Graph(self):\n",
        "    graph = np.zeros(shape=(self.n,self.n), dtype=int)\n",
        "    for u in range(self.n):\n",
        "      for v in range(u+1, self.n):\n",
        "        if self.sigma[u]!=self.sigma[v]:\n",
        "          graph[u][v]=1\n",
        "    \n",
        "    return graph\n",
        "\n",
        "  def Back_edge(self, graph, u, discovered, finished, edges):\n",
        "    discovered.append(u)\n",
        "    index= np.where(graph[u]==1)\n",
        "    for v in index[0]:\n",
        "      if v in discovered:\n",
        "        edges.append([self.sigma[u], self.sigma[v]])\n",
        "        break\n",
        "      \n",
        "      if v not in finished:\n",
        "        self.Back_edge(graph, v, discovered, finished, edges)\n",
        "    discovered.remove(u)\n",
        "    finished.append(u)\n",
        "\n",
        "  def dfs(self, graph):\n",
        "    discovered = []\n",
        "    finished= []\n",
        "    edges = []\n",
        "\n",
        "    for u in range(self.n):\n",
        "      if u not in discovered and u not in finished:\n",
        "        self.Back_edge(graph, u, discovered, finished, edges)\n",
        "    \n",
        "    return edges\n",
        "\n",
        "  def Leftshift(self):\n",
        "    \n",
        "    res =math.inf\n",
        "    for i in range(self.n):\n",
        "      self.sigma = np.roll(self.sigma, 1)\n",
        "      graph = self.Graph()\n",
        "      back_edges = self.dfs(graph)\n",
        "      if len(back_edges)<res:\n",
        "        res = len(back_edges)\n",
        "        Sigmastar = self.sigma\n",
        "    return list(Sigmastar)"
      ],
      "metadata": {
        "id": "RQFm1YDGKXlP"
      },
      "execution_count": 80,
      "outputs": []
    },
    {
      "cell_type": "code",
      "source": [
        "def R2R(Tournament, Vertices):\n",
        "\t\n",
        "  n, _ = Tournament.shape\n",
        "  flag, Sort = Topologicalsort(Tournament, Vertices)\n",
        "  \n",
        "  if flag:\n",
        "    return Sort\n",
        "  else:\n",
        "    cycle = Triangle(Tournament)\n",
        "    A = [Vertices[i] for i in range(n) if Tournament[i][cycle[1]] and Tournament[cycle[2]][i] ]\n",
        "    B = [Vertices[i] for i in range(n) if Tournament[i][cycle[2]] and Tournament[cycle[0]][i] ]\n",
        "    C = [Vertices[i] for i in range(n) if Tournament[i][cycle[0]] and Tournament[cycle[1]][i] ]\n",
        "    # A.append(cycle[0])\n",
        "    # B.append(cycle[1])\n",
        "    # C.append(cycle[2])\n",
        "    Sigma = [R2R(T.Sub_tournament(A), A), R2R(T.Sub_tournament(B), B), R2R(T.Sub_tournament(C), C)]\n",
        "    mfast = MFAST(list(flatten(Sigma)))\n",
        "    Sigmastar = mfast.Leftshift()\n",
        "  \n",
        "  return Sigmastar\n"
      ],
      "metadata": {
        "id": "Q4PImqjevVhP"
      },
      "execution_count": 81,
      "outputs": []
    },
    {
      "cell_type": "markdown",
      "source": [
        "# Block Rank2Rank Algo"
      ],
      "metadata": {
        "id": "9Trq0p9Ou-mz"
      }
    },
    {
      "cell_type": "code",
      "source": [
        "def BR2R(Tournament, Vertices):\n",
        "\n",
        "  n, _ = Tournament.shape\n",
        "  flag, Sort = Topologicalsort(Tournament, Vertices)\n",
        "\n",
        "  if flag:\n",
        "    return Sort\n",
        "  else:\n",
        "    cycle = Triangle(Tournament)\n",
        "    Splus = [Vertices[i] for i in range(n) if Tournament[i][cycle[0]] and Tournament[i][cycle[1]] and Tournament[i][cycle[2]]]\n",
        "    Sminus = [Vertices[i] for i in range(n) if Tournament[cycle[0]][i] and Tournament[cycle[1]][i] and Tournament[cycle[2]][i]]\n",
        "    S = list(set(Vertices)-(set(Splus) | set(Sminus)))\n",
        "    SigmaStar = [BR2R(T.Sub_tournament(Splus), Splus), R2R(T.Sub_tournament(S), S), BR2R(T.Sub_tournament(Sminus), Sminus)]\n",
        "    \n",
        "  return list(flatten(SigmaStar))\n"
      ],
      "metadata": {
        "id": "_y2T-dQ7vDdC"
      },
      "execution_count": 82,
      "outputs": []
    },
    {
      "cell_type": "code",
      "source": [
        "sp, _ = Tour.shape\n",
        "vert = [i for i in range(sp)]"
      ],
      "metadata": {
        "id": "w9pAKwsTi66T"
      },
      "execution_count": 83,
      "outputs": []
    },
    {
      "cell_type": "code",
      "source": [
        "Rank = BR2R(Tour, vert)"
      ],
      "metadata": {
        "id": "PJ2K2v7XVvaw"
      },
      "execution_count": 84,
      "outputs": []
    },
    {
      "cell_type": "code",
      "source": [
        "d = set(Rank)\n",
        "len(d)"
      ],
      "metadata": {
        "colab": {
          "base_uri": "https://localhost:8080/"
        },
        "id": "Ba7ES5ld6e3M",
        "outputId": "ae0a8db9-5303-4acc-a3d2-27172b2e65d2"
      },
      "execution_count": 85,
      "outputs": [
        {
          "output_type": "execute_result",
          "data": {
            "text/plain": [
              "215"
            ]
          },
          "metadata": {},
          "execution_count": 85
        }
      ]
    }
  ]
}