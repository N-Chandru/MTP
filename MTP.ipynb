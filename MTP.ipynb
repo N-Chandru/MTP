{
  "nbformat": 4,
  "nbformat_minor": 0,
  "metadata": {
    "colab": {
      "provenance": [],
      "collapsed_sections": []
    },
    "kernelspec": {
      "name": "python3",
      "display_name": "Python 3"
    },
    "language_info": {
      "name": "python"
    },
    "accelerator": "GPU"
  },
  "cells": [
    {
      "cell_type": "markdown",
      "source": [
        "# urls to download data set"
      ],
      "metadata": {
        "id": "zpaPcXvwb92S"
      }
    },
    {
      "cell_type": "code",
      "source": [
        "url= \"https://raw.githubusercontent.com/N-Chandru/MTP/main/match_data_2010_2011.csv\"\n",
        "url1=\"https://raw.githubusercontent.com/N-Chandru/MTP/main/match_data_1995.csv\""
      ],
      "metadata": {
        "id": "3Uf4dzXnKA_-"
      },
      "execution_count": 20,
      "outputs": []
    },
    {
      "cell_type": "markdown",
      "source": [
        "# Importing required packages"
      ],
      "metadata": {
        "id": "CBbwd0iZcHEm"
      }
    },
    {
      "cell_type": "code",
      "source": [
        "%%capture\n",
        "!pip install fancyimpute"
      ],
      "metadata": {
        "id": "_viU4EPHbZ3F"
      },
      "execution_count": 21,
      "outputs": []
    },
    {
      "cell_type": "code",
      "source": [
        "import pandas as pd\n",
        "import numpy as np\n",
        "import math\n",
        "from fancyimpute import KNN, NuclearNormMinimization, SoftImpute, BiScaler"
      ],
      "metadata": {
        "id": "PrmbbcZALhv4"
      },
      "execution_count": 22,
      "outputs": []
    },
    {
      "cell_type": "markdown",
      "source": [
        "# Data pre processing"
      ],
      "metadata": {
        "id": "pf3APsQOcUZk"
      }
    },
    {
      "cell_type": "code",
      "source": [
        "def Data(Urls):\n",
        "  frames = []\n",
        "  for url in Urls:\n",
        "    df = pd.read_csv(url)\n",
        "    df = df[[\"playerA\", \"playerB\"]]\n",
        "    frames.append(df)\n",
        "    data = pd.concat(frames)\n",
        "  \n",
        "  return data[data.playerB != 'N/A Bye']"
      ],
      "metadata": {
        "id": "7QjLJX64cbCC"
      },
      "execution_count": 23,
      "outputs": []
    },
    {
      "cell_type": "code",
      "source": [
        "data = Data([url])\n",
        "data"
      ],
      "metadata": {
        "id": "Lrq7EPL4dTdJ",
        "colab": {
          "base_uri": "https://localhost:8080/",
          "height": 424
        },
        "outputId": "4c22d5cd-fce3-4c41-e206-14e22d979266"
      },
      "execution_count": 24,
      "outputs": [
        {
          "output_type": "execute_result",
          "data": {
            "text/plain": [
              "                 playerA             playerB\n",
              "0           Andy Roddick        Peter Luczak\n",
              "1           Carsten Ball       Mischa Zverev\n",
              "2        Richard Gasquet     Jarkko Nieminen\n",
              "3          Matthew Ebden       Jurgen Melzer\n",
              "4          Tomas Berdych        Nick Lindahl\n",
              "...                  ...                 ...\n",
              "5883       Roger Federer         Juan Monaco\n",
              "5884       Tomas Berdych         Andy Murray\n",
              "5885  Jo-Wilfried Tsonga          John Isner\n",
              "5886       Roger Federer       Tomas Berdych\n",
              "5887       Roger Federer  Jo-Wilfried Tsonga\n",
              "\n",
              "[5324 rows x 2 columns]"
            ],
            "text/html": [
              "\n",
              "  <div id=\"df-cbc0b77d-ac9d-4cfa-8ee3-5b6f5d47913d\">\n",
              "    <div class=\"colab-df-container\">\n",
              "      <div>\n",
              "<style scoped>\n",
              "    .dataframe tbody tr th:only-of-type {\n",
              "        vertical-align: middle;\n",
              "    }\n",
              "\n",
              "    .dataframe tbody tr th {\n",
              "        vertical-align: top;\n",
              "    }\n",
              "\n",
              "    .dataframe thead th {\n",
              "        text-align: right;\n",
              "    }\n",
              "</style>\n",
              "<table border=\"1\" class=\"dataframe\">\n",
              "  <thead>\n",
              "    <tr style=\"text-align: right;\">\n",
              "      <th></th>\n",
              "      <th>playerA</th>\n",
              "      <th>playerB</th>\n",
              "    </tr>\n",
              "  </thead>\n",
              "  <tbody>\n",
              "    <tr>\n",
              "      <th>0</th>\n",
              "      <td>Andy Roddick</td>\n",
              "      <td>Peter Luczak</td>\n",
              "    </tr>\n",
              "    <tr>\n",
              "      <th>1</th>\n",
              "      <td>Carsten Ball</td>\n",
              "      <td>Mischa Zverev</td>\n",
              "    </tr>\n",
              "    <tr>\n",
              "      <th>2</th>\n",
              "      <td>Richard Gasquet</td>\n",
              "      <td>Jarkko Nieminen</td>\n",
              "    </tr>\n",
              "    <tr>\n",
              "      <th>3</th>\n",
              "      <td>Matthew Ebden</td>\n",
              "      <td>Jurgen Melzer</td>\n",
              "    </tr>\n",
              "    <tr>\n",
              "      <th>4</th>\n",
              "      <td>Tomas Berdych</td>\n",
              "      <td>Nick Lindahl</td>\n",
              "    </tr>\n",
              "    <tr>\n",
              "      <th>...</th>\n",
              "      <td>...</td>\n",
              "      <td>...</td>\n",
              "    </tr>\n",
              "    <tr>\n",
              "      <th>5883</th>\n",
              "      <td>Roger Federer</td>\n",
              "      <td>Juan Monaco</td>\n",
              "    </tr>\n",
              "    <tr>\n",
              "      <th>5884</th>\n",
              "      <td>Tomas Berdych</td>\n",
              "      <td>Andy Murray</td>\n",
              "    </tr>\n",
              "    <tr>\n",
              "      <th>5885</th>\n",
              "      <td>Jo-Wilfried Tsonga</td>\n",
              "      <td>John Isner</td>\n",
              "    </tr>\n",
              "    <tr>\n",
              "      <th>5886</th>\n",
              "      <td>Roger Federer</td>\n",
              "      <td>Tomas Berdych</td>\n",
              "    </tr>\n",
              "    <tr>\n",
              "      <th>5887</th>\n",
              "      <td>Roger Federer</td>\n",
              "      <td>Jo-Wilfried Tsonga</td>\n",
              "    </tr>\n",
              "  </tbody>\n",
              "</table>\n",
              "<p>5324 rows × 2 columns</p>\n",
              "</div>\n",
              "      <button class=\"colab-df-convert\" onclick=\"convertToInteractive('df-cbc0b77d-ac9d-4cfa-8ee3-5b6f5d47913d')\"\n",
              "              title=\"Convert this dataframe to an interactive table.\"\n",
              "              style=\"display:none;\">\n",
              "        \n",
              "  <svg xmlns=\"http://www.w3.org/2000/svg\" height=\"24px\"viewBox=\"0 0 24 24\"\n",
              "       width=\"24px\">\n",
              "    <path d=\"M0 0h24v24H0V0z\" fill=\"none\"/>\n",
              "    <path d=\"M18.56 5.44l.94 2.06.94-2.06 2.06-.94-2.06-.94-.94-2.06-.94 2.06-2.06.94zm-11 1L8.5 8.5l.94-2.06 2.06-.94-2.06-.94L8.5 2.5l-.94 2.06-2.06.94zm10 10l.94 2.06.94-2.06 2.06-.94-2.06-.94-.94-2.06-.94 2.06-2.06.94z\"/><path d=\"M17.41 7.96l-1.37-1.37c-.4-.4-.92-.59-1.43-.59-.52 0-1.04.2-1.43.59L10.3 9.45l-7.72 7.72c-.78.78-.78 2.05 0 2.83L4 21.41c.39.39.9.59 1.41.59.51 0 1.02-.2 1.41-.59l7.78-7.78 2.81-2.81c.8-.78.8-2.07 0-2.86zM5.41 20L4 18.59l7.72-7.72 1.47 1.35L5.41 20z\"/>\n",
              "  </svg>\n",
              "      </button>\n",
              "      \n",
              "  <style>\n",
              "    .colab-df-container {\n",
              "      display:flex;\n",
              "      flex-wrap:wrap;\n",
              "      gap: 12px;\n",
              "    }\n",
              "\n",
              "    .colab-df-convert {\n",
              "      background-color: #E8F0FE;\n",
              "      border: none;\n",
              "      border-radius: 50%;\n",
              "      cursor: pointer;\n",
              "      display: none;\n",
              "      fill: #1967D2;\n",
              "      height: 32px;\n",
              "      padding: 0 0 0 0;\n",
              "      width: 32px;\n",
              "    }\n",
              "\n",
              "    .colab-df-convert:hover {\n",
              "      background-color: #E2EBFA;\n",
              "      box-shadow: 0px 1px 2px rgba(60, 64, 67, 0.3), 0px 1px 3px 1px rgba(60, 64, 67, 0.15);\n",
              "      fill: #174EA6;\n",
              "    }\n",
              "\n",
              "    [theme=dark] .colab-df-convert {\n",
              "      background-color: #3B4455;\n",
              "      fill: #D2E3FC;\n",
              "    }\n",
              "\n",
              "    [theme=dark] .colab-df-convert:hover {\n",
              "      background-color: #434B5C;\n",
              "      box-shadow: 0px 1px 3px 1px rgba(0, 0, 0, 0.15);\n",
              "      filter: drop-shadow(0px 1px 2px rgba(0, 0, 0, 0.3));\n",
              "      fill: #FFFFFF;\n",
              "    }\n",
              "  </style>\n",
              "\n",
              "      <script>\n",
              "        const buttonEl =\n",
              "          document.querySelector('#df-cbc0b77d-ac9d-4cfa-8ee3-5b6f5d47913d button.colab-df-convert');\n",
              "        buttonEl.style.display =\n",
              "          google.colab.kernel.accessAllowed ? 'block' : 'none';\n",
              "\n",
              "        async function convertToInteractive(key) {\n",
              "          const element = document.querySelector('#df-cbc0b77d-ac9d-4cfa-8ee3-5b6f5d47913d');\n",
              "          const dataTable =\n",
              "            await google.colab.kernel.invokeFunction('convertToInteractive',\n",
              "                                                     [key], {});\n",
              "          if (!dataTable) return;\n",
              "\n",
              "          const docLinkHtml = 'Like what you see? Visit the ' +\n",
              "            '<a target=\"_blank\" href=https://colab.research.google.com/notebooks/data_table.ipynb>data table notebook</a>'\n",
              "            + ' to learn more about interactive tables.';\n",
              "          element.innerHTML = '';\n",
              "          dataTable['output_type'] = 'display_data';\n",
              "          await google.colab.output.renderOutput(dataTable, element);\n",
              "          const docLink = document.createElement('div');\n",
              "          docLink.innerHTML = docLinkHtml;\n",
              "          element.appendChild(docLink);\n",
              "        }\n",
              "      </script>\n",
              "    </div>\n",
              "  </div>\n",
              "  "
            ]
          },
          "metadata": {},
          "execution_count": 24
        }
      ]
    },
    {
      "cell_type": "markdown",
      "source": [
        "# Pairwise Block Rank Algo."
      ],
      "metadata": {
        "id": "I9aSIII0doBD"
      }
    },
    {
      "cell_type": "markdown",
      "source": [
        "## computing Pairwise Preference Matrix:-\n",
        "\n",
        "${Pr(i≻j)}$ ≡ $\\frac{1}{1+exp−(si−sj)}$"
      ],
      "metadata": {
        "id": "X3-OdFmygTXI"
      }
    },
    {
      "cell_type": "code",
      "source": [
        "def Count(dataframe):\n",
        "  count = {}\n",
        "  Data = dataframe.values.tolist()\n",
        "\n",
        "  for data in Data:\n",
        "    data = tuple(data)\n",
        "    if data in count:\n",
        "      count[data] += 1\n",
        "    else:\n",
        "      count[data] = 1\n",
        "  \n",
        "  return count\n",
        "\n",
        "def probability(Matrix):\n",
        "  n, _ = Matrix.shape\n",
        "  prob = np.zeros(shape = (n, n), dtype=float)\n",
        "  skew = np.zeros(shape = (n, n), dtype=float)\n",
        "\n",
        "  prob = 1.0/(1.0 + np.exp(Matrix.T- Matrix))\n",
        "  \n",
        "  with np.errstate(invalid='ignore', divide='ignore'):\n",
        "    skew = np.log10(prob/prob.T)\n",
        "\n",
        "  skew = np.nan_to_num(skew, nan=0, posinf=0, neginf=0)\n",
        "  # np.fill_diagonal(skew, 0)\n",
        "  return skew\n",
        "\n",
        "def PPM(dataframe):\n",
        "  A = dataframe['playerA'].tolist()\n",
        "  B = dataframe['playerB'].tolist()\n",
        "  Players = list(set(A) | set(B))\n",
        "  Players_dict = {val: id for id, val in enumerate(Players)}\n",
        "  preferenceMatrix = np.zeros(shape = (len(Players), len(Players)), dtype=float)\n",
        "  count = Count(dataframe)\n",
        "  \n",
        "  for p1 in Players:\n",
        "    for p2 in Players:\n",
        "      if p1!=p2:\n",
        "        preferenceMatrix[Players_dict[p1]][Players_dict[p2]] = count.get((p1, p2), 0)\n",
        "        preferenceMatrix[Players_dict[p2]][Players_dict[p1]] = count.get((p2, p1), 0)\n",
        "  \n",
        "  return probability(preferenceMatrix)\n",
        "\n",
        "def mask(matrix):\n",
        "  matrix[matrix!=0]=1\n",
        "  return matrix"
      ],
      "metadata": {
        "id": "p_1gg6nQA_YJ"
      },
      "execution_count": 25,
      "outputs": []
    },
    {
      "cell_type": "code",
      "source": [
        "P = PPM(data)\n",
        "Mask = mask(P.copy())"
      ],
      "metadata": {
        "id": "Rv5on6KlJIvO"
      },
      "execution_count": 26,
      "outputs": []
    },
    {
      "cell_type": "markdown",
      "source": [
        "## Matrix completion\n",
        "Reference [link ](https://ieeexplore.ieee.org/stamp/stamp.jsp?tp=&arnumber=6751420)\n",
        "\n",
        "Input: $X, W ∈ R_{M ×N}, μ, λ, ρ$\n",
        "\n",
        "while *not converged* do:\n",
        ">while not converged do:\n",
        "\n",
        "> >Update $ U = (ρZ + Y) *V * (ρV^{T} \u0002 V + λI_r)^{-1}\u0002$\n",
        "\n",
        ">>Update $V = (ρZ + Y)*U*(ρU^{T}U + λI_r)^{-1}$\n",
        "\n",
        ">>Update$Z = W.\u0007( \\frac{1}{2 + ρ}(2X + ρ(UV^{T}\u0002 − ρ^{-1}Y)))+ W .(UV\u0002^{T} − ρ^{−1}Y)$\n",
        "\n",
        ">end while\n",
        "  \n",
        "$Y = Y + ρ(Z − UV^{T})$\n",
        "\n",
        "$ρ = min (ρμ, 1e^{20} )$\n",
        "\n",
        "end while\n",
        "\n",
        "Output: Complete Matrix  $ Z = UV^{T}$ \u0002"
      ],
      "metadata": {
        "id": "eNu7lwW3gd4T"
      }
    },
    {
      "cell_type": "code",
      "source": [
        "def Matrix_Completion(Matrix, r, Mask, mu=0.01, ro=1, l=0.001, eps=1e-5, steps=100):\n",
        "  U = np.random.normal(size=(Matrix.shape[0], r))\n",
        "  V = np.random.normal(size=(Matrix.shape[1], r))\n",
        "  Z = U@V.T\n",
        "  Y = np.zeros(shape=(Matrix.shape))\n",
        "  I = np.eye(r)\n",
        "  step = 0\n",
        "  converged, converged2 = False, False\n",
        "\n",
        "  while not converged:\n",
        "    step2 =0\n",
        "    while not converged2:\n",
        "      U = (ro*Z +Y) @ V @ np.linalg.inv(ro*V.T @ V + l*I )\n",
        "      V = (ro*Z +Y).T @ U @ np.linalg.inv(ro*U.T @ U + l*I )\n",
        "      temp = U @V.T -1/ro * Y\n",
        "      ZZ = Mask*(1/(2+ro) *(2*Matrix + ro*temp)) + (1-Mask)*temp\n",
        "      converged2 = np.linalg.norm(Z-ZZ)/np.linalg.norm(Z) <eps or step2>steps\n",
        "      step2+=1\n",
        "      Z = ZZ.copy()\n",
        "    temp = Z - U @ V.T\n",
        "    Y = Y + ro*temp\n",
        "    ro = min(ro*mu, 1e20)\n",
        "    converged = np.linalg.norm(temp)<eps or step>steps\n",
        "    step+=1\n",
        "  \n",
        "  Z = U @ V.T\n",
        "  with np.errstate(invalid='ignore', divide='ignore'):\n",
        "    Matrix = np.log10(abs(Z/Z.T))\n",
        "  return Matrix\n"
      ],
      "metadata": {
        "id": "MY3G-ViPj0CV"
      },
      "execution_count": 27,
      "outputs": []
    },
    {
      "cell_type": "code",
      "source": [
        "Matrix = Matrix_Completion(P, 294, Mask)"
      ],
      "metadata": {
        "id": "qWehnDbYwXcv"
      },
      "execution_count": 42,
      "outputs": []
    },
    {
      "cell_type": "code",
      "source": [
        "%%capture\n",
        "X_incomplete_normalized = BiScaler().fit_transform(P)\n",
        "P_completed = SoftImpute().fit_transform(X_incomplete_normalized)\n",
        "np.fill_diagonal(P_completed, 0)\n",
        "with np.errstate(invalid='ignore', divide='ignore'):\n",
        "    Matrix = np.log10(abs(P_completed/P_completed.T))"
      ],
      "metadata": {
        "id": "2XtwE3XjTMe0"
      },
      "execution_count": null,
      "outputs": []
    },
    {
      "cell_type": "code",
      "source": [
        "(P_completed.transpose() == -P_completed).all()"
      ],
      "metadata": {
        "id": "aiiMEIue_siK",
        "colab": {
          "base_uri": "https://localhost:8080/"
        },
        "outputId": "329729e4-8ce4-4767-cd2c-b88ca9f5e599"
      },
      "execution_count": null,
      "outputs": [
        {
          "output_type": "execute_result",
          "data": {
            "text/plain": [
              "False"
            ]
          },
          "metadata": {},
          "execution_count": 116
        }
      ]
    },
    {
      "cell_type": "markdown",
      "source": [
        "# Tournament Construction\n"
      ],
      "metadata": {
        "id": "IAq4t8xws6UE"
      }
    },
    {
      "cell_type": "code",
      "source": [
        "class Tournaments():\n",
        "  def __init__(self, Matrix):\n",
        "    self.Tournament = Matrix.copy()\n",
        "    self.Tournament[self.Tournament>0]=1\n",
        "    self.Tournament[self.Tournament<0]=0\n",
        "    \n",
        "  def Sub_tournament(self, Vertices):\n",
        "    \n",
        "    n = len(Vertices)\n",
        "    Sub_tournament = np.zeros(shape = (n, n), dtype = int)\n",
        "    \n",
        "    for i, u in enumerate(Vertices):\n",
        "      for j, v in enumerate(Vertices):\n",
        "        if u!=v and self.Tournament[u][v] == 1:\n",
        "          Sub_tournament[i][j]=1\n",
        "    return Sub_tournament"
      ],
      "metadata": {
        "id": "JaYlR8Brzlmz"
      },
      "execution_count": 31,
      "outputs": []
    },
    {
      "cell_type": "code",
      "source": [
        "T = Tournaments(Matrix)\n",
        "Tour = T.Tournament\n",
        "Tour.shape"
      ],
      "metadata": {
        "colab": {
          "base_uri": "https://localhost:8080/"
        },
        "id": "Sqp4HGioD2k6",
        "outputId": "73c36ce8-75a3-453f-fdd2-03bda6acd7b3"
      },
      "execution_count": 32,
      "outputs": [
        {
          "output_type": "execute_result",
          "data": {
            "text/plain": [
              "(392, 392)"
            ]
          },
          "metadata": {},
          "execution_count": 32
        }
      ]
    },
    {
      "cell_type": "markdown",
      "source": [
        "# Rank2Rank Algo"
      ],
      "metadata": {
        "id": "S-qrd9kjtmXX"
      }
    },
    {
      "cell_type": "code",
      "source": [
        "import collections\n",
        "def flatten(lis):\n",
        "  for item in lis:\n",
        "    if isinstance(item, collections.Iterable) and not isinstance(item, str):\n",
        "      for x in flatten(item):\n",
        "        yield x\n",
        "    else:        \n",
        "      yield item"
      ],
      "metadata": {
        "id": "Z43ANl_q5KLa"
      },
      "execution_count": 33,
      "outputs": []
    },
    {
      "cell_type": "code",
      "source": [
        "def Triangle(Tournament):\n",
        "  \n",
        "  n,m = Tournament.shape\n",
        "  \n",
        "  for u in range(n):\n",
        "    x = np.where(Tournament[u] == 1)\n",
        "    for v in x[0]:\n",
        "      y = np.where(Tournament[v] == 1)\n",
        "      for w in y[0]:\n",
        "        if Tournament[w][u]:\n",
        "          return [u,v,w]\n",
        "  \n",
        "  return []\n",
        "\n",
        "def NTriangle(Tournament):\n",
        "\n",
        "  n,m = Tournament.shape\n",
        "\n",
        "  for u in range(n):\n",
        "    for v in range(n):\n",
        "      for w in range(n):\n",
        "        if u!=v and v!=w and w!=u:\n",
        "          if Tournament[u][v] and Tournament[v][w] and Tournament[w][u]:\n",
        "            return [u, v, w]\n",
        "\n",
        "  return []\n",
        "\n",
        "def Topologicalsort(Tournament, Vertices):\n",
        "  \n",
        "  n,_ = Tournament.shape\n",
        "  degree = np.zeros(shape = n, dtype = int)\n",
        "  \n",
        "  for u in range(n):\n",
        "    x= np.where(Tournament[u] == 1)\n",
        "    for v in x[0]:\n",
        "      degree[v]+=1\n",
        "      \n",
        "  queue=[]\n",
        "  x= np.where(degree == 0)\n",
        "  for u in x[0]:\n",
        "    queue.append(u)\n",
        "    \n",
        "  count = 0\n",
        "  Topologicalorder =[]\n",
        "  \n",
        "  while queue:\n",
        "    u = queue.pop(0)\n",
        "    Topologicalorder.append(Vertices[u])\n",
        "    \n",
        "    x= np.where(Tournament[u] == 1)\n",
        "    for v in x[0]:\n",
        "      degree[v]-=1\n",
        "      if degree[v] == 0:\n",
        "        queue.append(v)\n",
        "    count+=1\n",
        "      \n",
        "  if count!=n:\n",
        "    return (False, [])\n",
        "  else:\n",
        "    return (True, Topologicalorder)"
      ],
      "metadata": {
        "id": "isspeLpttlph"
      },
      "execution_count": 34,
      "outputs": []
    },
    {
      "cell_type": "code",
      "source": [
        "class MFAST():\n",
        "\n",
        "  def __init__(self, Sigma):\n",
        "     self.sigma = np.array(Sigma)\n",
        "     self.n, = self.sigma.shape\n",
        "\n",
        "  def Graph(self):\n",
        "    graph = np.zeros(shape=(self.n,self.n), dtype=int)\n",
        "    for u in range(self.n):\n",
        "      for v in range(u+1, self.n):\n",
        "        if self.sigma[u]!=self.sigma[v]:\n",
        "          graph[u][v]=1\n",
        "    \n",
        "    return graph\n",
        "\n",
        "  def Back_edge(self, graph, u, discovered, finished, edges):\n",
        "    discovered.append(u)\n",
        "    index= np.where(graph[u]==1)\n",
        "    for v in index[0]:\n",
        "      if v in discovered:\n",
        "        edges.append([self.sigma[u], self.sigma[v]])\n",
        "        break\n",
        "      \n",
        "      if v not in finished:\n",
        "        self.Back_edge(graph, v, discovered, finished, edges)\n",
        "    discovered.remove(u)\n",
        "    finished.append(u)\n",
        "\n",
        "  def dfs(self, graph):\n",
        "    discovered = []\n",
        "    finished= []\n",
        "    edges = []\n",
        "\n",
        "    for u in range(self.n):\n",
        "      if u not in discovered and u not in finished:\n",
        "        self.Back_edge(graph, u, discovered, finished, edges)\n",
        "    \n",
        "    return edges\n",
        "\n",
        "  def Leftshift(self):\n",
        "    \n",
        "    res =math.inf\n",
        "    for i in range(self.n):\n",
        "      self.sigma = np.roll(self.sigma, 1)\n",
        "      graph = self.Graph()\n",
        "      back_edges = self.dfs(graph)\n",
        "      if len(back_edges)<res:\n",
        "        res = len(back_edges)\n",
        "        Sigmastar = self.sigma\n",
        "    return list(Sigmastar)"
      ],
      "metadata": {
        "id": "RQFm1YDGKXlP"
      },
      "execution_count": 35,
      "outputs": []
    },
    {
      "cell_type": "code",
      "source": [
        "def R2R(Tournament, Vertices):\n",
        "\t\n",
        "  n, _ = Tournament.shape\n",
        "  flag, Sort = Topologicalsort(Tournament, Vertices)\n",
        "  \n",
        "  if flag:\n",
        "    return Sort\n",
        "  else:\n",
        "    cycle = Triangle(Tournament)\n",
        "    if len(cycle)==0: return Vertices\n",
        "    A = [Vertices[i] for i in range(n) if Tournament[i][cycle[1]] and Tournament[cycle[2]][i] ]\n",
        "    B = [Vertices[i] for i in range(n) if Tournament[i][cycle[2]] and Tournament[cycle[0]][i] ]\n",
        "    C = [Vertices[i] for i in range(n) if Tournament[i][cycle[0]] and Tournament[cycle[1]][i] ]\n",
        "    # A.append(cycle[0])\n",
        "    # B.append(cycle[1])\n",
        "    # C.append(cycle[2])\n",
        "    Sigma = [R2R(T.Sub_tournament(A), A), R2R(T.Sub_tournament(B), B), R2R(T.Sub_tournament(C), C)]\n",
        "    mfast = MFAST(list(flatten(Sigma)))\n",
        "    Sigmastar = mfast.Leftshift()\n",
        "  \n",
        "  return Sigmastar\n"
      ],
      "metadata": {
        "id": "Q4PImqjevVhP"
      },
      "execution_count": 36,
      "outputs": []
    },
    {
      "cell_type": "markdown",
      "source": [
        "# Block Rank2Rank Algo"
      ],
      "metadata": {
        "id": "9Trq0p9Ou-mz"
      }
    },
    {
      "cell_type": "code",
      "source": [
        "def BR2R(Tournament, Vertices):\n",
        "\n",
        "  n, _ = Tournament.shape\n",
        "  flag, Sort = Topologicalsort(Tournament, Vertices)\n",
        "\n",
        "  if flag:\n",
        "    return Sort\n",
        "  else:\n",
        "    cycle = Triangle(Tournament)\n",
        "    if len(cycle)==0: return Vertices\n",
        "    Splus = [Vertices[i] for i in range(n) if Tournament[i][cycle[0]] and Tournament[i][cycle[1]] and Tournament[i][cycle[2]]]\n",
        "    Sminus = [Vertices[i] for i in range(n) if Tournament[cycle[0]][i] and Tournament[cycle[1]][i] and Tournament[cycle[2]][i]]\n",
        "    S = list(set(Vertices)-(set(Splus) | set(Sminus)))\n",
        "    SigmaStar = [BR2R(T.Sub_tournament(Splus), Splus), R2R(T.Sub_tournament(S), S), BR2R(T.Sub_tournament(Sminus), Sminus)]\n",
        "    \n",
        "  return list(flatten(SigmaStar))\n"
      ],
      "metadata": {
        "id": "_y2T-dQ7vDdC"
      },
      "execution_count": 37,
      "outputs": []
    },
    {
      "cell_type": "code",
      "source": [
        "sp, _ = Tour.shape\n",
        "vert = [i for i in range(sp)]"
      ],
      "metadata": {
        "id": "w9pAKwsTi66T"
      },
      "execution_count": 38,
      "outputs": []
    },
    {
      "cell_type": "code",
      "source": [
        "Rank = BR2R(Tour, vert)\n",
        "print(Rank, len(Rank))\n",
        "d = set(Rank)\n",
        "len(d)"
      ],
      "metadata": {
        "id": "PJ2K2v7XVvaw",
        "colab": {
          "base_uri": "https://localhost:8080/"
        },
        "outputId": "3fb2fed4-3f01-448e-c7c5-2cc7dbd40c2f"
      },
      "execution_count": 43,
      "outputs": [
        {
          "output_type": "stream",
          "name": "stdout",
          "text": [
            "[106, 185, 390, 199, 122, 245, 211, 158, 161, 256, 95, 12, 171, 324, 353, 370, 260, 70, 79, 346, 323, 63, 349, 69, 84, 151, 44, 20, 202, 131, 23, 334, 61, 113, 121, 382, 194, 0, 327, 304, 283, 359, 174, 137, 362, 105, 45, 369, 360, 19, 89, 311, 91, 28, 11, 198, 322, 74, 56, 98, 39, 32, 42, 273, 332, 8, 239, 232, 108, 219, 50, 166, 65, 2, 76, 376, 231, 169, 94, 336, 267, 243, 25, 112, 204, 216, 15, 288, 34, 83, 305, 200, 193, 291, 67, 14, 142, 230, 35, 227, 268, 103, 254, 225, 55, 1, 364, 30, 110, 275, 16, 344, 107, 302, 187, 73, 236, 9, 82, 343, 309, 251, 64, 139, 229, 281, 164, 186, 36, 301, 258, 46, 195, 375, 212, 279, 156, 261, 298, 140, 339, 345, 234, 286, 296, 3, 120, 272, 329, 206, 284, 271, 33, 152, 135, 66, 342, 159, 143, 77, 163, 133, 90, 52, 255, 145] 166\n"
          ]
        },
        {
          "output_type": "execute_result",
          "data": {
            "text/plain": [
              "166"
            ]
          },
          "metadata": {},
          "execution_count": 43
        }
      ]
    },
    {
      "cell_type": "code",
      "source": [
        "from tqdm import tqdm\n",
        "Rank=[]\n",
        "r=100\n",
        "for i in tqdm(range(100, 392)):\n",
        "  Matrix = Matrix_Completion(P, i, Mask)\n",
        "  T = Tournaments(Matrix)\n",
        "  R = BR2R(T.Tournament, vert)\n",
        "  if len(R) > len(Rank):\n",
        "    Rank=R\n",
        "    r=i\n"
      ],
      "metadata": {
        "colab": {
          "base_uri": "https://localhost:8080/"
        },
        "id": "Xo6p__ls-L6F",
        "outputId": "77846521-af0b-4ea8-eca9-d1c079913c3a"
      },
      "execution_count": 40,
      "outputs": [
        {
          "output_type": "stream",
          "name": "stderr",
          "text": [
            "100%|██████████| 292/292 [23:28<00:00,  4.82s/it]\n"
          ]
        }
      ]
    },
    {
      "cell_type": "code",
      "source": [
        "print(len(Rank), r)"
      ],
      "metadata": {
        "id": "YZteDKctARqK",
        "colab": {
          "base_uri": "https://localhost:8080/"
        },
        "outputId": "b35402cc-b1c4-489a-a45d-a23b1c3a062c"
      },
      "execution_count": 41,
      "outputs": [
        {
          "output_type": "stream",
          "name": "stdout",
          "text": [
            "230 294\n"
          ]
        }
      ]
    }
  ]
}